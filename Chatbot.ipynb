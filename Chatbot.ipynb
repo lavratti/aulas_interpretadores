{
  "cells": [
    {
      "cell_type": "markdown",
      "metadata": {
        "id": "view-in-github",
        "colab_type": "text"
      },
      "source": [
        "<a href=\"https://colab.research.google.com/github/lavratti/aulas_interpretadores/blob/main/Chatbot.ipynb\" target=\"_parent\"><img src=\"https://colab.research.google.com/assets/colab-badge.svg\" alt=\"Open In Colab\"/></a>"
      ]
    },
    {
      "cell_type": "code",
      "execution_count": null,
      "metadata": {
        "colab": {
          "base_uri": "https://localhost:8080/"
        },
        "id": "Tcom41ZS55aI",
        "outputId": "b44ccdf2-dec5-455d-b412-983b6a8b6055"
      },
      "outputs": [
        {
          "name": "stdout",
          "output_type": "stream",
          "text": [
            "Requirement already satisfied: chatterbot in /usr/local/lib/python3.7/dist-packages (1.0.8)\n",
            "Requirement already satisfied: pytz in /usr/local/lib/python3.7/dist-packages (from chatterbot) (2022.1)\n",
            "Requirement already satisfied: mathparse<0.2,>=0.1 in /usr/local/lib/python3.7/dist-packages (from chatterbot) (0.1.2)\n",
            "Requirement already satisfied: python-dateutil<2.9,>=2.8 in /usr/local/lib/python3.7/dist-packages (from chatterbot) (2.8.2)\n",
            "Requirement already satisfied: sqlalchemy<1.4,>=1.3 in /usr/local/lib/python3.7/dist-packages (from chatterbot) (1.3.24)\n",
            "Requirement already satisfied: six>=1.5 in /usr/local/lib/python3.7/dist-packages (from python-dateutil<2.9,>=2.8->chatterbot) (1.15.0)\n",
            "[nltk_data] Downloading package punkt to /root/nltk_data...\n",
            "[nltk_data]   Package punkt is already up-to-date!\n"
          ]
        }
      ],
      "source": [
        "!pip install chatterbot\n",
        "\n",
        "from chatterbot import ChatBot\n",
        "from chatterbot.trainers import ListTrainer\n",
        "import nltk\n",
        "nltk.download('punkt')\n",
        "import re\n",
        "import requests\n",
        "from bs4 import BeautifulSoup\n",
        "\n",
        "url_list = [\n",
        "            \"https://pt.wikipedia.org/wiki/Ucr%C3%A2nia\",\n",
        "            \"https://pt.wikipedia.org/wiki/R%C3%BAssia\",\n",
        "            \"https://pt.wikipedia.org/wiki/Invas%C3%A3o_da_Ucr%C3%A2nia_pela_R%C3%BAssia_em_2022\",\n",
        "            \"https://pt.wikipedia.org/wiki/Guerra_em_Donbas\",\n",
        "            \"https://pt.wikipedia.org/wiki/Anexa%C3%A7%C3%A3o_da_Crimeia_%C3%A0_Federa%C3%A7%C3%A3o_Russa\",\n",
        "            \"https://g1.globo.com/mundo/ucrania-russia/\",\n",
        "            \"https://www.cnnbrasil.com.br/tudo-sobre/guerra-na-ucrania/\",\n",
        "            \"https://www1.folha.uol.com.br/mundo/guerra-da-ucrania/\",\n",
        "            \"https://noticias.r7.com/internacional/russia-x-ucrania\",\n",
        "            \"https://aovivo.folha.uol.com.br/mundo/2022/03/31/6113-acompanhe-as-principais-noticias-sobre-a-guerra-da-ucrania.shtml\",\n",
        "            \"https://brasilescola.uol.com.br/geografia/por-que-a-russia-invadiu-a-ucrania-em-2022.htm\",\n",
        "            \"https://www.dw.com/pt-002/guerra-na-ucr%C3%A2nia/t-60927282\",\n",
        "            ]\n",
        "\n",
        "\n",
        "all_senteces = []\n",
        "for url in url_list:\n",
        "  page = requests.get(url)\n",
        "  page = page.text\n",
        "  soup = BeautifulSoup(page, features=\"lxml\")\n",
        "  for script in soup([\"script\", \"style\"]):\n",
        "      script.decompose()\n",
        "  raw_text  = soup.get_text()\n",
        "\n",
        "  cleaned = re.sub(r\"(?is)<(script|style).*?>.*?(</\\1>)\", \"\", raw_text.strip())\n",
        "  cleaned = re.sub(r\"(?s)<!--(.*?)-->[\\n]?\", \"\", cleaned)\n",
        "  cleaned = re.sub(r\"(?s)<.*?>\", \" \", cleaned)\n",
        "  cleaned = re.sub(r\"&nbsp;\", \" \", cleaned)\n",
        "  cleaned = re.sub(r\"  \", \" \", cleaned)\n",
        "  cleaned = re.sub(\"\\n\", \" \", cleaned)\n",
        "  cleaned = re.sub(\"'\", \" \", cleaned)\n",
        "  cleaned = re.sub(\"\\\"\", \" \", cleaned)\n",
        "  cleaned = cleaned.strip()\n",
        "  sent_tokens = nltk.sent_tokenize(cleaned)\n",
        "  for token in sent_tokens:\n",
        "    all_senteces.append(token)\n",
        "\n"
      ]
    },
    {
      "cell_type": "code",
      "execution_count": null,
      "metadata": {
        "colab": {
          "background_save": true,
          "base_uri": "https://localhost:8080/"
        },
        "id": "mYKR0i4Y6xn5",
        "outputId": "e3bcb8e5-7f31-4a1b-c7c9-21c8c5c26a4b"
      },
      "outputs": [
        {
          "name": "stdout",
          "output_type": "stream",
          "text": [
            "List Trainer: [####################] 100%\n"
          ]
        }
      ],
      "source": [
        "bot = ChatBot(\n",
        "    'ReporterBot',\n",
        "    storage_adapter='chatterbot.storage.SQLStorageAdapter',\n",
        "    database_uri='sqlite:///database.sqlite3'\n",
        "    )\n",
        "    \n",
        "chat = ListTrainer(bot)\n",
        "chat.train(all_senteces)"
      ]
    },
    {
      "cell_type": "code",
      "execution_count": null,
      "metadata": {
        "id": "2cW2K84n-AK7"
      },
      "outputs": [],
      "source": [
        "while True:\n",
        "  response = bot.get_response(input(\"Pergunta: \"))\n",
        "  print(\"[Confiança na resposta: {:}%]\\nResposta:\".format(100*float(response.confidence)), response)\n",
        "\n"
      ]
    }
  ],
  "metadata": {
    "colab": {
      "collapsed_sections": [],
      "name": "Chatbot.ipynb",
      "provenance": [],
      "authorship_tag": "ABX9TyNIuCsBFPok46rczhbYOrEP",
      "include_colab_link": true
    },
    "kernelspec": {
      "display_name": "Python 3",
      "name": "python3"
    },
    "language_info": {
      "name": "python"
    }
  },
  "nbformat": 4,
  "nbformat_minor": 0
}